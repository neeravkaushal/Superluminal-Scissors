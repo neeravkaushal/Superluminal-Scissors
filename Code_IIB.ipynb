{
 "cells": [
  {
   "cell_type": "code",
   "execution_count": 3,
   "metadata": {},
   "outputs": [
    {
     "name": "stdout",
     "output_type": "stream",
     "text": [
      "Using matplotlib backend: Qt5Agg\n"
     ]
    },
    {
     "name": "stderr",
     "output_type": "stream",
     "text": [
      "C:\\Users\\kaushal\\Anaconda3\\lib\\site-packages\\ipykernel_launcher.py:12: MatplotlibDeprecationWarning: Adding an axes using the same arguments as a previous axes currently reuses the earlier instance.  In a future version, a new instance will always be created and returned.  Meanwhile, this warning can be suppressed, and the future behavior ensured, by passing a unique label to each axes instance.\n",
      "  if sys.path[0] == '':\n"
     ]
    }
   ],
   "source": [
    "%matplotlib\n",
    "from numpy import *\n",
    "from matplotlib.pyplot import *\n",
    "from matplotlib.ticker import LogFormatterSciNotation, ScalarFormatter, LogFormatter, FuncFormatter\n",
    "  \n",
    "u, c           = [1,100,1000], 299792458\n",
    "phi_theta      = linspace (90, 1e-13, 999999)\n",
    "phi_rad        = deg2rad(phi_theta)\n",
    "\n",
    "for i in u:\n",
    "    v  = (i*(cos(phi_rad)/sin(phi_rad))) / c\n",
    "    bx = subplot()\n",
    "    bx.plot(phi_theta,v, label = r'u = %.0f $m\\ s^{-1}$'%i)\n",
    "\n",
    "legend(loc='upper left')\n",
    "xlabel(r'$\\theta$ (degrees)', fontsize=15, labelpad=2)\n",
    "ylabel(r'$\\frac{v}{c}$', fontsize=22, labelpad=1.5).set_rotation(0)\n",
    "bx.axis( [10,1e-13, 0.01,100] )\n",
    "bx.loglog()\n",
    "bx.xaxis.set_major_formatter(LogFormatterSciNotation())\n",
    "bx.yaxis.set_major_formatter(FuncFormatter(lambda y,pos: ('{{:.{:1d}f}}'.format(int(np.maximum(-np.log10(y),0)))).format(y)))\n",
    "bx.tick_params(axis='both', which='major', labelsize=10)\n",
    "savefig('F_IIB.png', dpi=1000)"
   ]
  },
  {
   "cell_type": "code",
   "execution_count": null,
   "metadata": {},
   "outputs": [],
   "source": []
  }
 ],
 "metadata": {
  "kernelspec": {
   "display_name": "Python 3",
   "language": "python",
   "name": "python3"
  },
  "language_info": {
   "codemirror_mode": {
    "name": "ipython",
    "version": 3
   },
   "file_extension": ".py",
   "mimetype": "text/x-python",
   "name": "python",
   "nbconvert_exporter": "python",
   "pygments_lexer": "ipython3",
   "version": "3.7.3"
  }
 },
 "nbformat": 4,
 "nbformat_minor": 2
}
