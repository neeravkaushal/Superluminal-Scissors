{
 "cells": [
  {
   "cell_type": "code",
   "execution_count": 1,
   "metadata": {},
   "outputs": [],
   "source": [
    "from numpy import *\n",
    "from matplotlib.pyplot import *\n",
    "from matplotlib.ticker import LogFormatterSciNotation, ScalarFormatter, LogFormatter, FuncFormatter\n",
    "subplots_adjust(wspace=0.40,hspace=0.60)\n",
    "Start_Angle    = 0\n",
    "Finish_Angle   = 90 \n",
    "c              = 300000000\n",
    "phi_theta      = linspace(Start_Angle, Finish_Angle, 599999)\n",
    "phi_rad        = deg2rad(phi_theta)\n",
    "\n",
    "phi_theta2      = linspace(-40,90, 599999)\n",
    "ys             = ones(len(phi_theta2),int)"
   ]
  },
  {
   "cell_type": "code",
   "execution_count": 2,
   "metadata": {},
   "outputs": [
    {
     "name": "stdout",
     "output_type": "stream",
     "text": [
      "Using matplotlib backend: Qt5Agg\n",
      "40.284663418053775\n",
      "38.17270762701226\n",
      "36.247269887679984\n",
      "24.4698005207022\n"
     ]
    },
    {
     "name": "stderr",
     "output_type": "stream",
     "text": [
      "C:\\Users\\kaushal\\Anaconda3\\lib\\site-packages\\ipykernel_launcher.py:8: MatplotlibDeprecationWarning: Adding an axes using the same arguments as a previous axes currently reuses the earlier instance.  In a future version, a new instance will always be created and returned.  Meanwhile, this warning can be suppressed, and the future behavior ensured, by passing a unique label to each axes instance.\n",
      "  \n",
      "C:\\Users\\kaushal\\Anaconda3\\lib\\site-packages\\ipykernel_launcher.py:20: UserWarning: Creating legend with loc=\"best\" can be slow with large amounts of data.\n",
      "C:\\Users\\kaushal\\Anaconda3\\lib\\site-packages\\ipykernel\\eventloops.py:106: UserWarning: Creating legend with loc=\"best\" can be slow with large amounts of data.\n",
      "  app.exec_()\n"
     ]
    }
   ],
   "source": [
    "%matplotlib\n",
    "L = [0.9,1.0,1.1,2.0]#[0.01, 1, 100]\n",
    "w = [c,c,c,c]#[100, 1000, 10000]\n",
    "for i in range(len(L)):\n",
    "    first_point    = abs(arcsin( ((L[i]*w[i])/(2*c)) - sqrt( ((L[i]*L[i]*w[i]*w[i])/(4*c*c)) + 1 ) ))\n",
    "    v              = abs((L[i]*w[i])/( (c*(cos(phi_rad)**2)) + (w[i]*L[i]*sin(phi_rad)) ))\n",
    "    print(rad2deg(first_point))\n",
    "    ax             = subplot()\n",
    "    ax.plot(phi_theta,v,label=r'$\\omega$L = {0} c'.format(round((L[i]),1)))\n",
    "    ax.plot(phi_theta2, ys, '--k')\n",
    "    #ax.loglog()\n",
    "    #ax.axis( [1e-4,1e+2,1e-2,1e+1])\n",
    "    ax.text(81.8,1.02,r'v = c')\n",
    "    xlim([-4,90])\n",
    "xlabel(r'$ \\theta (degrees)$', fontsize=15)\n",
    "ylabel(r'$ \\frac{v}{c} $',fontsize=22, labelpad=11).set_rotation(0)\n",
    "ax.tick_params(axis='both', which='major', labelsize=10)\n",
    "    #title( r'$ \\mid \\frac{v}{c} \\mid $   vs   $ \\theta$ ')\n",
    "legend()\n",
    "savefig('F_IIIA.png',dpi=1000)\n",
    "show()"
   ]
  },
  {
   "cell_type": "code",
   "execution_count": null,
   "metadata": {},
   "outputs": [],
   "source": []
  }
 ],
 "metadata": {
  "kernelspec": {
   "display_name": "Python 3",
   "language": "python",
   "name": "python3"
  },
  "language_info": {
   "codemirror_mode": {
    "name": "ipython",
    "version": 3
   },
   "file_extension": ".py",
   "mimetype": "text/x-python",
   "name": "python",
   "nbconvert_exporter": "python",
   "pygments_lexer": "ipython3",
   "version": "3.7.3"
  }
 },
 "nbformat": 4,
 "nbformat_minor": 2
}
