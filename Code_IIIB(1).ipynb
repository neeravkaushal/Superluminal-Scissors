{
 "cells": [
  {
   "cell_type": "markdown",
   "metadata": {},
   "source": [
    "### Velocity vs Angle"
   ]
  },
  {
   "cell_type": "code",
   "execution_count": 2,
   "metadata": {},
   "outputs": [
    {
     "name": "stdout",
     "output_type": "stream",
     "text": [
      "Using matplotlib backend: Qt5Agg\n",
      "-72.03576408362862\n",
      "-38.17270762701226\n",
      "-24.4698005207022\n"
     ]
    },
    {
     "name": "stderr",
     "output_type": "stream",
     "text": [
      "C:\\Users\\kaushal\\Anaconda3\\lib\\site-packages\\ipykernel_launcher.py:19: MatplotlibDeprecationWarning: Adding an axes using the same arguments as a previous axes currently reuses the earlier instance.  In a future version, a new instance will always be created and returned.  Meanwhile, this warning can be suppressed, and the future behavior ensured, by passing a unique label to each axes instance.\n",
      "C:\\Users\\kaushal\\Anaconda3\\lib\\site-packages\\ipykernel_launcher.py:29: UserWarning: Creating legend with loc=\"best\" can be slow with large amounts of data.\n"
     ]
    }
   ],
   "source": [
    "%matplotlib\n",
    "from numpy import *\n",
    "from pylab import *\n",
    "subplots_adjust(wspace=0.20,hspace=0.35)\n",
    "Start_Angle    = -90#float(input(\"Start Angle wrt x-Axis   :\"))\n",
    "Finish_Angle   = 40#float(input(\"Finish Angle wrt x-Axis  :\"))  \n",
    "L              = [0.1,1,2]\n",
    "c              = 299792458\n",
    "w              = [c,c,c]\n",
    "phi_theta      = linspace (Start_Angle, Finish_Angle, 999999)\n",
    "phi_rad        = deg2rad(phi_theta)\n",
    "ys             = ones(len(phi_theta),int)\n",
    "\n",
    "for i in range(len(L)):\n",
    "    EA             = arcsin( ((L[i]*w[i])/(2*c)) - sqrt( ((L[i]*L[i]*w[i]*w[i])/(4*c*c)) + 1 ) )\n",
    "    v              = abs((L[i]*w[i])/( (c*(cos(phi_rad)**2)) + (w[i]*L[i]*sin(phi_rad)) ))\n",
    "    t              = abs(( (pi/2 + phi_rad)/w[i] ) + ( L[i]/(c*cos(phi_rad)) ))\n",
    "    print(rad2deg(EA))\n",
    "    ax = subplot()\n",
    "    ax.plot(phi_theta, v, label = r'$\\omega$L = %.1f c , $\\theta^{f}_{p}$ = %02.1f$^\\circ$'%(L[i],rad2deg(EA)))\n",
    "    ax.plot(phi_theta,ys,'--k')\n",
    "    \n",
    "ax.axis([-90,40,-1,20])\n",
    "xlabel(r'$\\theta$ (degrees)', fontsize=16)\n",
    "ylabel(r'$\\mid\\frac{v}{c}\\mid$', fontsize=22, labelpad=25).set_rotation(0)\n",
    "ax.tick_params(axis='both', which='major', labelsize=13)\n",
    "#title('v/c   vs   theta')\n",
    "legend()\n",
    "savefig('F_IIIB2.png', dpi=1000)\n",
    "show()"
   ]
  },
  {
   "cell_type": "markdown",
   "metadata": {},
   "source": [
    "### Velocity vs Time"
   ]
  },
  {
   "cell_type": "code",
   "execution_count": 5,
   "metadata": {},
   "outputs": [
    {
     "name": "stdout",
     "output_type": "stream",
     "text": [
      "Using matplotlib backend: Qt5Agg\n"
     ]
    },
    {
     "name": "stderr",
     "output_type": "stream",
     "text": [
      "C:\\Users\\kaushal\\Anaconda3\\lib\\site-packages\\ipykernel_launcher.py:18: MatplotlibDeprecationWarning: Adding an axes using the same arguments as a previous axes currently reuses the earlier instance.  In a future version, a new instance will always be created and returned.  Meanwhile, this warning can be suppressed, and the future behavior ensured, by passing a unique label to each axes instance.\n",
      "C:\\Users\\kaushal\\Anaconda3\\lib\\site-packages\\ipykernel_launcher.py:29: UserWarning: Creating legend with loc=\"best\" can be slow with large amounts of data.\n"
     ]
    }
   ],
   "source": [
    "%matplotlib\n",
    "from numpy import *\n",
    "from pylab import *\n",
    "subplots_adjust(wspace=0.20,hspace=0.35)\n",
    "Start_Angle    = -90\n",
    "Finish_Angle   =  90\n",
    "L              = [0.1,1,2]\n",
    "c              = 299792458\n",
    "w              = [c,c,c]\n",
    "phi_theta      = linspace (Start_Angle, Finish_Angle, 999999)\n",
    "phi_rad        = deg2rad(phi_theta)\n",
    "ys             = ones(len(phi_theta),int)\n",
    "\n",
    "for i in range(len(L)):\n",
    "    EA             = arcsin( ((L[i]*w[i])/(2*c)) - sqrt( ((L[i]*L[i]*w[i]*w[i])/(4*c*c)) + 1 ) )\n",
    "    v              = abs((L[i]*w[i])/( (c*(cos(phi_rad)**2)) + (w[i]*L[i]*sin(phi_rad)) ))\n",
    "    t              = abs(( (pi/2 + phi_rad)/w[i] ) + ( L[i]/abs(c*cos(phi_rad)) ))\n",
    "    ax = subplot()\n",
    "    ax.plot(t, v, label = r'$\\omega$L = %.1f c'%(L[i]))\n",
    "    ax.plot(t, ys,'--k')\n",
    "    \n",
    "ax.axis([1e-9,1e-7,0.09,10])\n",
    "ax.loglog()\n",
    "xlabel(r'$t_{total}$ (seconds)', fontsize=16)\n",
    "ylabel(r'$\\mid\\frac{v}{c}\\mid$', fontsize=22, labelpad=15).set_rotation(0)\n",
    "ax.tick_params(axis='both', which='major', labelsize=13)\n",
    "#title('v/c   vs   theta')\n",
    "legend()\n",
    "savefig('F_IIIB1.png', dpi=1000)\n",
    "show()"
   ]
  },
  {
   "cell_type": "code",
   "execution_count": null,
   "metadata": {},
   "outputs": [],
   "source": []
  }
 ],
 "metadata": {
  "kernelspec": {
   "display_name": "Python 3",
   "language": "python",
   "name": "python3"
  },
  "language_info": {
   "codemirror_mode": {
    "name": "ipython",
    "version": 3
   },
   "file_extension": ".py",
   "mimetype": "text/x-python",
   "name": "python",
   "nbconvert_exporter": "python",
   "pygments_lexer": "ipython3",
   "version": "3.7.3"
  }
 },
 "nbformat": 4,
 "nbformat_minor": 2
}
