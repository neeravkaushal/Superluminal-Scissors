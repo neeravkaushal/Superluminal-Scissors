{
 "cells": [
  {
   "cell_type": "code",
   "execution_count": 2,
   "metadata": {},
   "outputs": [
    {
     "name": "stdout",
     "output_type": "stream",
     "text": [
      "Using matplotlib backend: Qt5Agg\n"
     ]
    },
    {
     "name": "stderr",
     "output_type": "stream",
     "text": [
      "C:\\Users\\kaushal\\Anaconda3\\lib\\site-packages\\ipykernel_launcher.py:17: MatplotlibDeprecationWarning: Adding an axes using the same arguments as a previous axes currently reuses the earlier instance.  In a future version, a new instance will always be created and returned.  Meanwhile, this warning can be suppressed, and the future behavior ensured, by passing a unique label to each axes instance.\n"
     ]
    }
   ],
   "source": [
    "%matplotlib\n",
    "from numpy import *\n",
    "from pylab import *\n",
    "from matplotlib.ticker import LogFormatterSciNotation, ScalarFormatter, LogFormatter, FuncFormatter\n",
    "\n",
    "L = [0.01,10,1000]\n",
    "w = [1,10,100]\n",
    "xx = [0.01, 100, 100000]\n",
    "c           = 299792458\n",
    "phi_theta      = linspace (90,0.00001, 10000)\n",
    "phi_rad        = deg2rad(phi_theta)\n",
    "\n",
    "for i in range(len(L)):\n",
    "    w       =  1\n",
    "    x       = (L[i]*(cos(phi_rad)/sin(phi_rad)))\n",
    "    v       = (w*L[i]/(sin(phi_rad)**2)) / c\n",
    "    ax      =  subplot()\n",
    "    ax.plot   (phi_theta,v,label=r'$\\omega$L = {0} c'.format(xx[i]))\n",
    "    \n",
    "'''for i in w:\n",
    "    L, c           = 0.01, 299792458\n",
    "    phi_theta      = linspace (90,0.00001, 100000)\n",
    "    phi_rad        = deg2rad(phi_theta)\n",
    "    x              = ( L*(cos(phi_rad)/sin(phi_rad))) / L\n",
    "    v              = (i*L/(sin(phi_rad)**2)) / c\n",
    "    ax = subplot()\n",
    "    ax.plot(phi_theta,v,label='{0} rad/sec'.format(i))'''\n",
    "\n",
    "legend()\n",
    "xlabel(r'$\\theta$ (degrees)', fontsize=15)\n",
    "ylabel(r'$\\frac{v}{c}$', fontsize=22, labelpad=1.5).set_rotation(0)\n",
    "ax.axis( [10,0.00001, 0.01,100] )\n",
    "ax.loglog()\n",
    "ax.xaxis.set_major_formatter(LogFormatterSciNotation())\n",
    "ax.yaxis.set_major_formatter(FuncFormatter(lambda y,pos: ('{{:.{:1d}f}}'.format(int(np.maximum(-np.log10(y),0)))).format(y)))\n",
    "ax.tick_params(axis='both', which='major', labelsize=10)\n",
    "savefig('F_IIA.png',dpi=1000)\n",
    "show()"
   ]
  },
  {
   "cell_type": "code",
   "execution_count": null,
   "metadata": {},
   "outputs": [],
   "source": []
  },
  {
   "cell_type": "code",
   "execution_count": null,
   "metadata": {},
   "outputs": [],
   "source": []
  }
 ],
 "metadata": {
  "kernelspec": {
   "display_name": "Python 3",
   "language": "python",
   "name": "python3"
  },
  "language_info": {
   "codemirror_mode": {
    "name": "ipython",
    "version": 3
   },
   "file_extension": ".py",
   "mimetype": "text/x-python",
   "name": "python",
   "nbconvert_exporter": "python",
   "pygments_lexer": "ipython3",
   "version": "3.7.3"
  }
 },
 "nbformat": 4,
 "nbformat_minor": 2
}
